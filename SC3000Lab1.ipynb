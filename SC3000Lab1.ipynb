{
  "nbformat": 4,
  "nbformat_minor": 0,
  "metadata": {
    "colab": {
      "provenance": [],
      "authorship_tag": "ABX9TyOYoJ0wjC2v7FAhmkzypeyj",
      "include_colab_link": true
    },
    "kernelspec": {
      "name": "python3",
      "display_name": "Python 3"
    },
    "language_info": {
      "name": "python"
    }
  },
  "cells": [
    {
      "cell_type": "markdown",
      "metadata": {
        "id": "view-in-github",
        "colab_type": "text"
      },
      "source": [
        "<a href=\"https://colab.research.google.com/github/williamfaraday123/SC3000-AI/blob/main/SC3000Lab1.ipynb\" target=\"_parent\"><img src=\"https://colab.research.google.com/assets/colab-badge.svg\" alt=\"Open In Colab\"/></a>"
      ]
    },
    {
      "cell_type": "markdown",
      "source": [
        "## Installing Dependencies"
      ],
      "metadata": {
        "id": "mCxtJJNdHJht"
      }
    },
    {
      "cell_type": "code",
      "execution_count": 1,
      "metadata": {
        "id": "9rebkSocazTC",
        "colab": {
          "base_uri": "https://localhost:8080/"
        },
        "outputId": "687e0a9f-ce41-4640-da5e-28348c0eee23"
      },
      "outputs": [
        {
          "output_type": "stream",
          "name": "stdout",
          "text": [
            "Requirement already satisfied: torch in /usr/local/lib/python3.11/dist-packages (2.5.1+cu124)\n",
            "Requirement already satisfied: filelock in /usr/local/lib/python3.11/dist-packages (from torch) (3.17.0)\n",
            "Requirement already satisfied: typing-extensions>=4.8.0 in /usr/local/lib/python3.11/dist-packages (from torch) (4.12.2)\n",
            "Requirement already satisfied: networkx in /usr/local/lib/python3.11/dist-packages (from torch) (3.4.2)\n",
            "Requirement already satisfied: jinja2 in /usr/local/lib/python3.11/dist-packages (from torch) (3.1.5)\n",
            "Requirement already satisfied: fsspec in /usr/local/lib/python3.11/dist-packages (from torch) (2024.10.0)\n",
            "Requirement already satisfied: nvidia-cuda-nvrtc-cu12==12.4.127 in /usr/local/lib/python3.11/dist-packages (from torch) (12.4.127)\n",
            "Requirement already satisfied: nvidia-cuda-runtime-cu12==12.4.127 in /usr/local/lib/python3.11/dist-packages (from torch) (12.4.127)\n",
            "Requirement already satisfied: nvidia-cuda-cupti-cu12==12.4.127 in /usr/local/lib/python3.11/dist-packages (from torch) (12.4.127)\n",
            "Requirement already satisfied: nvidia-cudnn-cu12==9.1.0.70 in /usr/local/lib/python3.11/dist-packages (from torch) (9.1.0.70)\n",
            "Requirement already satisfied: nvidia-cublas-cu12==12.4.5.8 in /usr/local/lib/python3.11/dist-packages (from torch) (12.4.5.8)\n",
            "Requirement already satisfied: nvidia-cufft-cu12==11.2.1.3 in /usr/local/lib/python3.11/dist-packages (from torch) (11.2.1.3)\n",
            "Requirement already satisfied: nvidia-curand-cu12==10.3.5.147 in /usr/local/lib/python3.11/dist-packages (from torch) (10.3.5.147)\n",
            "Requirement already satisfied: nvidia-cusolver-cu12==11.6.1.9 in /usr/local/lib/python3.11/dist-packages (from torch) (11.6.1.9)\n",
            "Requirement already satisfied: nvidia-cusparse-cu12==12.3.1.170 in /usr/local/lib/python3.11/dist-packages (from torch) (12.3.1.170)\n",
            "Requirement already satisfied: nvidia-nccl-cu12==2.21.5 in /usr/local/lib/python3.11/dist-packages (from torch) (2.21.5)\n",
            "Requirement already satisfied: nvidia-nvtx-cu12==12.4.127 in /usr/local/lib/python3.11/dist-packages (from torch) (12.4.127)\n",
            "Requirement already satisfied: nvidia-nvjitlink-cu12==12.4.127 in /usr/local/lib/python3.11/dist-packages (from torch) (12.4.127)\n",
            "Requirement already satisfied: triton==3.1.0 in /usr/local/lib/python3.11/dist-packages (from torch) (3.1.0)\n",
            "Requirement already satisfied: sympy==1.13.1 in /usr/local/lib/python3.11/dist-packages (from torch) (1.13.1)\n",
            "Requirement already satisfied: mpmath<1.4,>=1.1.0 in /usr/local/lib/python3.11/dist-packages (from sympy==1.13.1->torch) (1.3.0)\n",
            "Requirement already satisfied: MarkupSafe>=2.0 in /usr/local/lib/python3.11/dist-packages (from jinja2->torch) (3.0.2)\n",
            "Requirement already satisfied: gym==0.25 in /usr/local/lib/python3.11/dist-packages (0.25.0)\n",
            "Requirement already satisfied: numpy==1.23 in /usr/local/lib/python3.11/dist-packages (1.23.0)\n",
            "Requirement already satisfied: cloudpickle>=1.2.0 in /usr/local/lib/python3.11/dist-packages (from gym==0.25) (3.1.1)\n",
            "Requirement already satisfied: gym_notices>=0.0.4 in /usr/local/lib/python3.11/dist-packages (from gym==0.25) (0.0.8)\n"
          ]
        }
      ],
      "source": [
        "!pip install torch\n",
        "!pip install gym==0.25 numpy==1.23"
      ]
    },
    {
      "cell_type": "markdown",
      "source": [
        "## Importing dependencies and defining helper functions"
      ],
      "metadata": {
        "id": "SSrMVzZTHB3E"
      }
    },
    {
      "cell_type": "code",
      "source": [
        "import gym\n",
        "import torch\n",
        "import torch.nn as nn\n",
        "import torch.optim as optim\n",
        "import numpy as np\n",
        "import random\n",
        "from collections import deque\n",
        "import matplotlib.pyplot as plt\n",
        "\n",
        "\n",
        "#to display video\n",
        "from google.colab import output\n",
        "output.enable_custom_widget_manager()\n",
        "from gym.wrappers import RecordVideo\n",
        "import glob\n",
        "import io\n",
        "import base64\n",
        "from IPython.display import HTML\n",
        "from IPython import display as ipythondisplay\n",
        "def show_video():\n",
        "  mp4list = glob.glob('video/*.mp4')\n",
        "  if len(mp4list) > 0:\n",
        "    mp4 = mp4list[0]\n",
        "    video = io.open(mp4, 'r+b').read()\n",
        "    encoded = base64.b64encode(video)\n",
        "    ipythondisplay.display(HTML(data='''<video width=\"400\" controls>\n",
        "                            <source src=\"data:video/mp4;base64,{0}\" type=\"video/mp4\" />\n",
        "                            </video>'''.format(encoded.decode('ascii'))))\n",
        "  else:\n",
        "    print(\"Could not find video\")"
      ],
      "metadata": {
        "id": "0iUaAbu_H9YB"
      },
      "execution_count": 31,
      "outputs": []
    },
    {
      "cell_type": "markdown",
      "source": [
        "## Task 1: Development of an RL Agent: DQN Model and DQN Agent"
      ],
      "metadata": {
        "id": "DAli3kQs8HU1"
      }
    },
    {
      "cell_type": "code",
      "source": [
        "class DQN(nn.Module):\n",
        "  def __init__(self, state_size, action_size):\n",
        "    super(DQN, self).__init__()\n",
        "    self.fc1 = nn.Linear(state_size, 24)\n",
        "    self.fc2 = nn.Linear(24, 24)\n",
        "    self.fc3 = nn.Linear(24, action_size)\n",
        "\n",
        "  def forward(self, x):\n",
        "    x = torch.relu(self.fc1(x))\n",
        "    x = torch.relu(self.fc2(x))\n",
        "    return self.fc3(x)"
      ],
      "metadata": {
        "id": "R8qTjdyB8Nnn"
      },
      "execution_count": 11,
      "outputs": []
    },
    {
      "cell_type": "code",
      "source": [
        "class DQNAgent():\n",
        "    def __init__(self, state_size, action_size):\n",
        "        self.state_size = state_size\n",
        "        self.action_size = action_size\n",
        "        self.memory = deque(maxlen=10000)\n",
        "        self.gamma = 0.95  # discount factor\n",
        "        self.epsilon = 1.0  # exploration rate\n",
        "        self.epsilon_min = 0.01\n",
        "        self.epsilon_decay = 0.995\n",
        "        self.model = DQN(state_size, action_size)\n",
        "        self.optimizer = optim.Adam(self.model.parameters(), lr=0.001)\n",
        "\n",
        "    def remember(self, state, action, reward, next_state, done):\n",
        "        self.memory.append((state, action, reward, next_state, done))\n",
        "\n",
        "    def act(self, state):\n",
        "        if np.random.rand() <= self.epsilon:\n",
        "            return random.randrange(self.action_size)\n",
        "        state = torch.FloatTensor(state)\n",
        "        act_values = self.model(state)\n",
        "        return torch.argmax(act_values).item()\n",
        "\n",
        "    def replay(self, batch_size):\n",
        "        if len(self.memory) < batch_size:\n",
        "            return\n",
        "\n",
        "        minibatch = random.sample(self.memory, batch_size)\n",
        "\n",
        "        # Convert experiences to properly shaped tensors\n",
        "        states = torch.FloatTensor(np.vstack([e[0] for e in minibatch]))\n",
        "        actions = torch.LongTensor(np.vstack([e[1] for e in minibatch]))\n",
        "        rewards = torch.FloatTensor(np.vstack([e[2] for e in minibatch]))\n",
        "        next_states = torch.FloatTensor(np.vstack([e[3] for e in minibatch]))\n",
        "        dones = torch.FloatTensor(np.vstack([e[4] for e in minibatch]))\n",
        "\n",
        "        # Get current Q values for all actions\n",
        "        current_q = self.model(states)\n",
        "\n",
        "        # Select Q values for taken actions\n",
        "        current_q = current_q.gather(1, actions)\n",
        "\n",
        "        # Get max Q values for next states\n",
        "        next_q = self.model(next_states).detach().max(1)[0].unsqueeze(1)\n",
        "\n",
        "        # Compute target Q values\n",
        "        target_q = rewards + (1 - dones) * self.gamma * next_q\n",
        "\n",
        "        # Compute loss\n",
        "        loss = nn.MSELoss()(current_q, target_q)\n",
        "\n",
        "        # Optimize the model\n",
        "        self.optimizer.zero_grad()\n",
        "        loss.backward()\n",
        "        self.optimizer.step()\n",
        "\n",
        "        # Decay exploration rate\n",
        "        if self.epsilon > self.epsilon_min:\n",
        "            self.epsilon *= self.epsilon_decay"
      ],
      "metadata": {
        "id": "rMtKJxU8Pbns"
      },
      "execution_count": 23,
      "outputs": []
    },
    {
      "cell_type": "markdown",
      "source": [
        "## Loading CartPole environment"
      ],
      "metadata": {
        "id": "ojd5zTazMggM"
      }
    },
    {
      "cell_type": "code",
      "source": [
        "env = gym.make(\"CartPole-v1\")"
      ],
      "metadata": {
        "id": "eQrRbOJOMlXy",
        "colab": {
          "base_uri": "https://localhost:8080/"
        },
        "outputId": "6bb4ec42-9f90-4e3c-99f7-323911409b13"
      },
      "execution_count": 13,
      "outputs": [
        {
          "output_type": "stream",
          "name": "stderr",
          "text": [
            "/usr/local/lib/python3.11/dist-packages/gym/core.py:329: DeprecationWarning: \u001b[33mWARN: Initializing wrapper in old step API which returns one bool instead of two. It is recommended to set `new_step_api=True` to use new step API. This will be the default behaviour in future.\u001b[0m\n",
            "  deprecation(\n",
            "/usr/local/lib/python3.11/dist-packages/gym/wrappers/step_api_compatibility.py:39: DeprecationWarning: \u001b[33mWARN: Initializing environment in old step API which returns one bool instead of two. It is recommended to set `new_step_api=True` to use new step API. This will be the default behaviour in future.\u001b[0m\n",
            "  deprecation(\n"
          ]
        }
      ]
    },
    {
      "cell_type": "markdown",
      "source": [
        "We can check the action and observation space of this environment. Discrete(2) means that there are two valid discrete actions: 0 & 1."
      ],
      "metadata": {
        "id": "xqVgo5jyMsnK"
      }
    },
    {
      "cell_type": "code",
      "source": [
        "print(env.action_space)"
      ],
      "metadata": {
        "colab": {
          "base_uri": "https://localhost:8080/"
        },
        "id": "saVOESsDMxcd",
        "outputId": "0d0577da-543d-4708-861d-54cba58ee8fe"
      },
      "execution_count": 6,
      "outputs": [
        {
          "output_type": "stream",
          "name": "stdout",
          "text": [
            "Discrete(2)\n"
          ]
        }
      ]
    },
    {
      "cell_type": "markdown",
      "source": [
        "The observation space is given below. The first two arrays define the min and max values of the 4 observed values, corresponding to cart position, velocity and pole angle, angular velocity."
      ],
      "metadata": {
        "id": "IwC0G5U4MxCA"
      }
    },
    {
      "cell_type": "code",
      "source": [
        "print(env.observation_space)"
      ],
      "metadata": {
        "colab": {
          "base_uri": "https://localhost:8080/"
        },
        "id": "i9t8aVafM54w",
        "outputId": "66fcb4c4-a9d2-4270-adbb-6e26aad52a6d"
      },
      "execution_count": 7,
      "outputs": [
        {
          "output_type": "stream",
          "name": "stdout",
          "text": [
            "Box([-4.8000002e+00 -3.4028235e+38 -4.1887903e-01 -3.4028235e+38], [4.8000002e+00 3.4028235e+38 4.1887903e-01 3.4028235e+38], (4,), float32)\n"
          ]
        }
      ]
    },
    {
      "cell_type": "markdown",
      "source": [
        "\n",
        "We call each round of the pole-balancing game an \"episode\". At the start of each episode, make sure the environment is reset, which chooses a random initial state, e.g., pole slightly tilted to the right. This initialization can be achieved by the code below, which returns the observation of the initial state."
      ],
      "metadata": {
        "id": "tPgZYBzENHl4"
      }
    },
    {
      "cell_type": "code",
      "source": [
        "observation = env.reset()\n",
        "state_size = env.observation_space.shape[0]\n",
        "print(\"Initial observations:\", observation)\n",
        "state = np.reshape(observation, [1, state_size])\n",
        "print(\"State:\", state)"
      ],
      "metadata": {
        "colab": {
          "base_uri": "https://localhost:8080/"
        },
        "id": "Er40pOQvNFJu",
        "outputId": "33af27d5-74da-415e-d03a-618d6dbe6ae3"
      },
      "execution_count": 8,
      "outputs": [
        {
          "output_type": "stream",
          "name": "stdout",
          "text": [
            "Initial observations: [-0.02450933 -0.04919039 -0.0394814  -0.04704946]\n",
            "State: [[-0.02450933 -0.04919039 -0.0394814  -0.04704946]]\n"
          ]
        }
      ]
    },
    {
      "cell_type": "markdown",
      "source": [
        "For the CartPole environment, there are two possible actions: 0 for pushing to the left and 1 for pushing to the right. For example, we can push the cart to the left using code below, which returns the new observation, the current reward, an indicator of whether the game ends, and some additional information (not used in this project). For CartPole, the game ends when the pole is significantly tilted or you manage to balance the pole for 500 steps. You get exactly 1 reward for each step before the game ends (i.e., max cumulative reward is 500)."
      ],
      "metadata": {
        "id": "0E1J8UNsPd1y"
      }
    },
    {
      "cell_type": "code",
      "source": [
        "observation, reward, done, info = env.step(0)\n",
        "print(\"New observations after choosing action 0:\", observation)\n",
        "print(\"Reward for this step:\", reward)\n",
        "print(\"Is this round done?\", done)"
      ],
      "metadata": {
        "colab": {
          "base_uri": "https://localhost:8080/"
        },
        "id": "SS4Mjh5xPbb_",
        "outputId": "b9cace0b-31aa-4c36-f672-af6999a0f19d"
      },
      "execution_count": 9,
      "outputs": [
        {
          "output_type": "stream",
          "name": "stdout",
          "text": [
            "New observations after choosing action 0: [-0.02549314 -0.24372461 -0.04042239  0.23291996]\n",
            "Reward for this step: 1.0\n",
            "Is this round done? False\n"
          ]
        }
      ]
    },
    {
      "cell_type": "markdown",
      "source": [
        "## Task 2: Train the Agent (100 episodes)"
      ],
      "metadata": {
        "id": "9FLVBFpEcUh4"
      }
    },
    {
      "cell_type": "code",
      "source": [
        "state_size = env.observation_space.shape[0]\n",
        "action_size = env.action_space.n\n",
        "agent = DQNAgent(state_size, action_size)\n",
        "batch_size = 32\n",
        "episodes = 100\n",
        "rewards = []\n",
        "\n",
        "for e in range(episodes):\n",
        "  state = env.reset()\n",
        "  state = np.reshape(state, [1, state_size])\n",
        "  total_reward = 0\n",
        "  done = False\n",
        "\n",
        "  while not done:\n",
        "    action = agent.act(state) #agent decides an action\n",
        "    next_state, reward, done, _ = env.step(action) #environment responds to action\n",
        "    next_state = np.reshape(next_state, [1, state_size])\n",
        "    agent.remember(state, action, reward, next_state, done) #store the experience for later training\n",
        "    state = next_state #update state\n",
        "    total_reward += reward #track total reward\n",
        "\n",
        "    if done:\n",
        "      print(f\"Episode: {e+1}/{episodes}, Score: {total_reward}, Epsilon: {agent.epsilon:.2f}\")\n",
        "      rewards.append(total_reward)\n",
        "      break\n",
        "\n",
        "    if len(agent.memory) > batch_size:\n",
        "      agent.replay(batch_size) #train the agent (if agent has enough experiences in memory)"
      ],
      "metadata": {
        "colab": {
          "base_uri": "https://localhost:8080/"
        },
        "id": "qMgs1kuacYk0",
        "outputId": "05b6cc43-2598-4341-d9ea-7b7b1914e12f"
      },
      "execution_count": 24,
      "outputs": [
        {
          "output_type": "stream",
          "name": "stdout",
          "text": [
            "Episode: 1/100, Score: 42.0, Epsilon: 0.96\n",
            "Episode: 2/100, Score: 13.0, Epsilon: 0.90\n",
            "Episode: 3/100, Score: 38.0, Epsilon: 0.75\n",
            "Episode: 4/100, Score: 17.0, Epsilon: 0.69\n",
            "Episode: 5/100, Score: 11.0, Epsilon: 0.66\n",
            "Episode: 6/100, Score: 15.0, Epsilon: 0.61\n",
            "Episode: 7/100, Score: 12.0, Epsilon: 0.58\n",
            "Episode: 8/100, Score: 28.0, Epsilon: 0.51\n",
            "Episode: 9/100, Score: 13.0, Epsilon: 0.48\n",
            "Episode: 10/100, Score: 12.0, Epsilon: 0.45\n",
            "Episode: 11/100, Score: 9.0, Epsilon: 0.43\n",
            "Episode: 12/100, Score: 12.0, Epsilon: 0.41\n",
            "Episode: 13/100, Score: 13.0, Epsilon: 0.39\n",
            "Episode: 14/100, Score: 17.0, Epsilon: 0.36\n",
            "Episode: 15/100, Score: 10.0, Epsilon: 0.34\n",
            "Episode: 16/100, Score: 9.0, Epsilon: 0.33\n",
            "Episode: 17/100, Score: 14.0, Epsilon: 0.31\n",
            "Episode: 18/100, Score: 14.0, Epsilon: 0.29\n",
            "Episode: 19/100, Score: 11.0, Epsilon: 0.27\n",
            "Episode: 20/100, Score: 11.0, Epsilon: 0.26\n",
            "Episode: 21/100, Score: 20.0, Epsilon: 0.24\n",
            "Episode: 22/100, Score: 11.0, Epsilon: 0.22\n",
            "Episode: 23/100, Score: 9.0, Epsilon: 0.22\n",
            "Episode: 24/100, Score: 8.0, Epsilon: 0.21\n",
            "Episode: 25/100, Score: 11.0, Epsilon: 0.20\n",
            "Episode: 26/100, Score: 14.0, Epsilon: 0.19\n",
            "Episode: 27/100, Score: 10.0, Epsilon: 0.18\n",
            "Episode: 28/100, Score: 12.0, Epsilon: 0.17\n",
            "Episode: 29/100, Score: 14.0, Epsilon: 0.16\n",
            "Episode: 30/100, Score: 10.0, Epsilon: 0.15\n",
            "Episode: 31/100, Score: 9.0, Epsilon: 0.14\n",
            "Episode: 32/100, Score: 10.0, Epsilon: 0.14\n",
            "Episode: 33/100, Score: 11.0, Epsilon: 0.13\n",
            "Episode: 34/100, Score: 18.0, Epsilon: 0.12\n",
            "Episode: 35/100, Score: 11.0, Epsilon: 0.11\n",
            "Episode: 36/100, Score: 94.0, Epsilon: 0.07\n",
            "Episode: 37/100, Score: 75.0, Epsilon: 0.05\n",
            "Episode: 38/100, Score: 33.0, Epsilon: 0.04\n",
            "Episode: 39/100, Score: 69.0, Epsilon: 0.03\n",
            "Episode: 40/100, Score: 36.0, Epsilon: 0.03\n",
            "Episode: 41/100, Score: 29.0, Epsilon: 0.02\n",
            "Episode: 42/100, Score: 25.0, Epsilon: 0.02\n",
            "Episode: 43/100, Score: 61.0, Epsilon: 0.01\n",
            "Episode: 44/100, Score: 19.0, Epsilon: 0.01\n",
            "Episode: 45/100, Score: 28.0, Epsilon: 0.01\n",
            "Episode: 46/100, Score: 37.0, Epsilon: 0.01\n",
            "Episode: 47/100, Score: 30.0, Epsilon: 0.01\n",
            "Episode: 48/100, Score: 53.0, Epsilon: 0.01\n",
            "Episode: 49/100, Score: 39.0, Epsilon: 0.01\n",
            "Episode: 50/100, Score: 40.0, Epsilon: 0.01\n",
            "Episode: 51/100, Score: 61.0, Epsilon: 0.01\n",
            "Episode: 52/100, Score: 75.0, Epsilon: 0.01\n",
            "Episode: 53/100, Score: 30.0, Epsilon: 0.01\n",
            "Episode: 54/100, Score: 41.0, Epsilon: 0.01\n",
            "Episode: 55/100, Score: 60.0, Epsilon: 0.01\n",
            "Episode: 56/100, Score: 88.0, Epsilon: 0.01\n",
            "Episode: 57/100, Score: 71.0, Epsilon: 0.01\n",
            "Episode: 58/100, Score: 54.0, Epsilon: 0.01\n",
            "Episode: 59/100, Score: 72.0, Epsilon: 0.01\n",
            "Episode: 60/100, Score: 48.0, Epsilon: 0.01\n",
            "Episode: 61/100, Score: 75.0, Epsilon: 0.01\n",
            "Episode: 62/100, Score: 34.0, Epsilon: 0.01\n",
            "Episode: 63/100, Score: 58.0, Epsilon: 0.01\n",
            "Episode: 64/100, Score: 59.0, Epsilon: 0.01\n",
            "Episode: 65/100, Score: 26.0, Epsilon: 0.01\n",
            "Episode: 66/100, Score: 55.0, Epsilon: 0.01\n",
            "Episode: 67/100, Score: 39.0, Epsilon: 0.01\n",
            "Episode: 68/100, Score: 65.0, Epsilon: 0.01\n",
            "Episode: 69/100, Score: 50.0, Epsilon: 0.01\n",
            "Episode: 70/100, Score: 57.0, Epsilon: 0.01\n",
            "Episode: 71/100, Score: 38.0, Epsilon: 0.01\n",
            "Episode: 72/100, Score: 49.0, Epsilon: 0.01\n",
            "Episode: 73/100, Score: 45.0, Epsilon: 0.01\n",
            "Episode: 74/100, Score: 87.0, Epsilon: 0.01\n",
            "Episode: 75/100, Score: 43.0, Epsilon: 0.01\n",
            "Episode: 76/100, Score: 54.0, Epsilon: 0.01\n",
            "Episode: 77/100, Score: 66.0, Epsilon: 0.01\n",
            "Episode: 78/100, Score: 40.0, Epsilon: 0.01\n",
            "Episode: 79/100, Score: 80.0, Epsilon: 0.01\n",
            "Episode: 80/100, Score: 71.0, Epsilon: 0.01\n",
            "Episode: 81/100, Score: 41.0, Epsilon: 0.01\n",
            "Episode: 82/100, Score: 49.0, Epsilon: 0.01\n",
            "Episode: 83/100, Score: 80.0, Epsilon: 0.01\n",
            "Episode: 84/100, Score: 43.0, Epsilon: 0.01\n",
            "Episode: 85/100, Score: 53.0, Epsilon: 0.01\n",
            "Episode: 86/100, Score: 79.0, Epsilon: 0.01\n",
            "Episode: 87/100, Score: 36.0, Epsilon: 0.01\n",
            "Episode: 88/100, Score: 89.0, Epsilon: 0.01\n",
            "Episode: 89/100, Score: 62.0, Epsilon: 0.01\n",
            "Episode: 90/100, Score: 81.0, Epsilon: 0.01\n",
            "Episode: 91/100, Score: 72.0, Epsilon: 0.01\n",
            "Episode: 92/100, Score: 57.0, Epsilon: 0.01\n",
            "Episode: 93/100, Score: 44.0, Epsilon: 0.01\n",
            "Episode: 94/100, Score: 32.0, Epsilon: 0.01\n",
            "Episode: 95/100, Score: 76.0, Epsilon: 0.01\n",
            "Episode: 96/100, Score: 116.0, Epsilon: 0.01\n",
            "Episode: 97/100, Score: 43.0, Epsilon: 0.01\n",
            "Episode: 98/100, Score: 73.0, Epsilon: 0.01\n",
            "Episode: 99/100, Score: 90.0, Epsilon: 0.01\n",
            "Episode: 100/100, Score: 72.0, Epsilon: 0.01\n"
          ]
        }
      ]
    },
    {
      "cell_type": "markdown",
      "source": [
        "## Task 2: Plot the Results"
      ],
      "metadata": {
        "id": "79jCm6uW-0Bh"
      }
    },
    {
      "cell_type": "code",
      "source": [
        "plt.plot(rewards)\n",
        "plt.xlabel('Episode')\n",
        "plt.ylabel('Cumulative Reward')\n",
        "plt.title('DQN Training Performance')\n",
        "plt.show()"
      ],
      "metadata": {
        "colab": {
          "base_uri": "https://localhost:8080/",
          "height": 472
        },
        "id": "6ALlfxAO-2lm",
        "outputId": "c0a08d06-d301-470d-82cb-6b38f07e4052"
      },
      "execution_count": 25,
      "outputs": [
        {
          "output_type": "display_data",
          "data": {
            "text/plain": [
              "<Figure size 640x480 with 1 Axes>"
            ],
            "image/png": "[encoded data removed]"
          },
          "metadata": {}
        }
      ]
    },
    {
      "cell_type": "markdown",
      "source": [
        "## Task 3: Test the Agent by rendering 1 episode"
      ],
      "metadata": {
        "id": "lS7TWnORUOHs"
      }
    },
    {
      "cell_type": "code",
      "source": [
        "env = RecordVideo(gym.make(\"CartPole-v1\"), \"./video\")\n",
        "state = env.reset()\n",
        "state = np.reshape(state, [1, state_size])\n",
        "total_reward = 0\n",
        "done = False\n",
        "\n",
        "while not done:\n",
        "  env.render()\n",
        "  action = agent.act(state)\n",
        "  next_state, reward, done, _ = env.step(action)\n",
        "  next_state = np.reshape(next_state, [1, state_size])\n",
        "  state = next_state\n",
        "  total_reward += reward\n",
        "\n",
        "print(f\"Total Reward: {total_reward}\")\n",
        "env.close()\n",
        "show_video()"
      ],
      "metadata": {
        "colab": {
          "base_uri": "https://localhost:8080/",
          "height": 585
        },
        "id": "Ln5Jt9ayURmH",
        "outputId": "0ce96886-5248-46af-c5b0-985eb1c2836b"
      },
      "execution_count": 32,
      "outputs": [
        {
          "output_type": "stream",
          "name": "stderr",
          "text": [
            "/usr/local/lib/python3.11/dist-packages/gym/core.py:329: DeprecationWarning: \u001b[33mWARN: Initializing wrapper in old step API which returns one bool instead of two. It is recommended to set `new_step_api=True` to use new step API. This will be the default behaviour in future.\u001b[0m\n",
            "  deprecation(\n",
            "/usr/local/lib/python3.11/dist-packages/gym/wrappers/step_api_compatibility.py:39: DeprecationWarning: \u001b[33mWARN: Initializing environment in old step API which returns one bool instead of two. It is recommended to set `new_step_api=True` to use new step API. This will be the default behaviour in future.\u001b[0m\n",
            "  deprecation(\n",
            "/usr/local/lib/python3.11/dist-packages/gym/wrappers/record_video.py:78: UserWarning: \u001b[33mWARN: Overwriting existing videos at /content/video folder (try specifying a different `video_folder` for the `RecordVideo` wrapper if this is not desired)\u001b[0m\n",
            "  logger.warn(\n",
            "/usr/local/lib/python3.11/dist-packages/gym/wrappers/monitoring/video_recorder.py:78: DeprecationWarning: \u001b[33mWARN: Recording ability for environment CartPole-v1 initialized with `render_mode=None` is marked as deprecated and will be removed in the future.\u001b[0m\n",
            "  logger.deprecation(\n",
            "/usr/local/lib/python3.11/dist-packages/gym/core.py:57: DeprecationWarning: \u001b[33mWARN: You are calling render method, but you didn't specified the argument render_mode at environment initialization. To maintain backward compatibility, the environment will render in human mode.\n",
            "If you want to render in human mode, initialize the environment in this way: gym.make('EnvName', render_mode='human') and don't call the render method.\n",
            "See here for more information: https://www.gymlibrary.ml/content/api/\u001b[0m\n",
            "  deprecation(\n",
            "/usr/local/lib/python3.11/dist-packages/gym/core.py:51: DeprecationWarning: \u001b[33mWARN: The argument mode in render method is deprecated; use render_mode during environment initialization instead.\n",
            "See here for more information: https://www.gymlibrary.ml/content/api/\u001b[0m\n",
            "  deprecation(\n"
          ]
        },
        {
          "output_type": "stream",
          "name": "stdout",
          "text": [
            "Total Reward: 65.0\n"
          ]
        },
        {
          "output_type": "display_data",
          "data": {
            "text/plain": [
              "<IPython.core.display.HTML object>"
            ],
            "text/html": [
              "<video width=\"400\" controls>\n",
              "                            <source src=\"data:video/mp4;base64,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\" type=\"video/mp4\" />\n",
              "                            </video>"
            ]
          },
          "metadata": {}
        }
      ]
    }
  ]
}
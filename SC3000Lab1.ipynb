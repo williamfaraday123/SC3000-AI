{
  "cells": [
    {
      "cell_type": "markdown",
      "metadata": {
        "id": "view-in-github",
        "colab_type": "text"
      },
      "source": [
        "<a href=\"https://colab.research.google.com/github/williamfaraday123/SC3000-AI/blob/main/SC3000Lab1.ipynb\" target=\"_parent\"><img src=\"https://colab.research.google.com/assets/colab-badge.svg\" alt=\"Open In Colab\"/></a>"
      ]
    },
    {
      "cell_type": "markdown",
      "metadata": {
        "id": "mCxtJJNdHJht"
      },
      "source": [
        "## Installing Dependencies"
      ]
    },
    {
      "cell_type": "code",
      "execution_count": 1,
      "metadata": {
        "colab": {
          "base_uri": "https://localhost:8080/"
        },
        "id": "9rebkSocazTC",
        "outputId": "e0110a18-7f90-4715-b6f2-5793b4780811"
      },
      "outputs": [
        {
          "output_type": "stream",
          "name": "stdout",
          "text": [
            "Requirement already satisfied: torch in /usr/local/lib/python3.11/dist-packages (2.6.0+cu124)\n",
            "Requirement already satisfied: filelock in /usr/local/lib/python3.11/dist-packages (from torch) (3.18.0)\n",
            "Requirement already satisfied: typing-extensions>=4.10.0 in /usr/local/lib/python3.11/dist-packages (from torch) (4.13.0)\n",
            "Requirement already satisfied: networkx in /usr/local/lib/python3.11/dist-packages (from torch) (3.4.2)\n",
            "Requirement already satisfied: jinja2 in /usr/local/lib/python3.11/dist-packages (from torch) (3.1.6)\n",
            "Requirement already satisfied: fsspec in /usr/local/lib/python3.11/dist-packages (from torch) (2025.3.0)\n",
            "Requirement already satisfied: nvidia-cuda-nvrtc-cu12==12.4.127 in /usr/local/lib/python3.11/dist-packages (from torch) (12.4.127)\n",
            "Requirement already satisfied: nvidia-cuda-runtime-cu12==12.4.127 in /usr/local/lib/python3.11/dist-packages (from torch) (12.4.127)\n",
            "Requirement already satisfied: nvidia-cuda-cupti-cu12==12.4.127 in /usr/local/lib/python3.11/dist-packages (from torch) (12.4.127)\n",
            "Requirement already satisfied: nvidia-cudnn-cu12==9.1.0.70 in /usr/local/lib/python3.11/dist-packages (from torch) (9.1.0.70)\n",
            "Requirement already satisfied: nvidia-cublas-cu12==12.4.5.8 in /usr/local/lib/python3.11/dist-packages (from torch) (12.4.5.8)\n",
            "Requirement already satisfied: nvidia-cufft-cu12==11.2.1.3 in /usr/local/lib/python3.11/dist-packages (from torch) (11.2.1.3)\n",
            "Requirement already satisfied: nvidia-curand-cu12==10.3.5.147 in /usr/local/lib/python3.11/dist-packages (from torch) (10.3.5.147)\n",
            "Requirement already satisfied: nvidia-cusolver-cu12==11.6.1.9 in /usr/local/lib/python3.11/dist-packages (from torch) (11.6.1.9)\n",
            "Requirement already satisfied: nvidia-cusparse-cu12==12.3.1.170 in /usr/local/lib/python3.11/dist-packages (from torch) (12.3.1.170)\n",
            "Requirement already satisfied: nvidia-cusparselt-cu12==0.6.2 in /usr/local/lib/python3.11/dist-packages (from torch) (0.6.2)\n",
            "Requirement already satisfied: nvidia-nccl-cu12==2.21.5 in /usr/local/lib/python3.11/dist-packages (from torch) (2.21.5)\n",
            "Requirement already satisfied: nvidia-nvtx-cu12==12.4.127 in /usr/local/lib/python3.11/dist-packages (from torch) (12.4.127)\n",
            "Requirement already satisfied: nvidia-nvjitlink-cu12==12.4.127 in /usr/local/lib/python3.11/dist-packages (from torch) (12.4.127)\n",
            "Requirement already satisfied: triton==3.2.0 in /usr/local/lib/python3.11/dist-packages (from torch) (3.2.0)\n",
            "Requirement already satisfied: sympy==1.13.1 in /usr/local/lib/python3.11/dist-packages (from torch) (1.13.1)\n",
            "Requirement already satisfied: mpmath<1.4,>=1.1.0 in /usr/local/lib/python3.11/dist-packages (from sympy==1.13.1->torch) (1.3.0)\n",
            "Requirement already satisfied: MarkupSafe>=2.0 in /usr/local/lib/python3.11/dist-packages (from jinja2->torch) (3.0.2)\n",
            "Requirement already satisfied: gym==0.25 in /usr/local/lib/python3.11/dist-packages (0.25.0)\n",
            "Requirement already satisfied: numpy==1.24 in /usr/local/lib/python3.11/dist-packages (1.24.0)\n",
            "Requirement already satisfied: cloudpickle>=1.2.0 in /usr/local/lib/python3.11/dist-packages (from gym==0.25) (3.1.1)\n",
            "Requirement already satisfied: gym_notices>=0.0.4 in /usr/local/lib/python3.11/dist-packages (from gym==0.25) (0.0.8)\n"
          ]
        }
      ],
      "source": [
        "!pip install torch\n",
        "!pip install gym==0.25 numpy==1.24"
      ]
    },
    {
      "cell_type": "markdown",
      "metadata": {
        "id": "SSrMVzZTHB3E"
      },
      "source": [
        "## Importing dependencies and defining helper functions"
      ]
    },
    {
      "cell_type": "code",
      "execution_count": 2,
      "metadata": {
        "id": "0iUaAbu_H9YB"
      },
      "outputs": [],
      "source": [
        "import gym\n",
        "import torch\n",
        "import torch.nn as nn\n",
        "import torch.nn.functional as F\n",
        "import torch.optim as optim\n",
        "import numpy as np\n",
        "import random\n",
        "from collections import deque\n",
        "import matplotlib.pyplot as plt\n",
        "\n",
        "\n",
        "#to display video\n",
        "from google.colab import output\n",
        "output.enable_custom_widget_manager()\n",
        "from gym.wrappers import RecordVideo\n",
        "import glob\n",
        "import io\n",
        "import base64\n",
        "from IPython.display import HTML\n",
        "from IPython import display as ipythondisplay\n",
        "def show_video():\n",
        "  mp4list = glob.glob('video/*.mp4')\n",
        "  if len(mp4list) > 0:\n",
        "    mp4 = mp4list[0]\n",
        "    video = io.open(mp4, 'r+b').read()\n",
        "    encoded = base64.b64encode(video)\n",
        "    ipythondisplay.display(HTML(data='''<video width=\"400\" controls>\n",
        "                            <source src=\"data:video/mp4;base64,{0}\" type=\"video/mp4\" />\n",
        "                            </video>'''.format(encoded.decode('ascii'))))\n",
        "  else:\n",
        "    print(\"Could not find video\")"
      ]
    },
    {
      "cell_type": "markdown",
      "metadata": {
        "id": "DAli3kQs8HU1"
      },
      "source": [
        "## Task 1: Development of an RL Agent: DQN Model and DQN Agent"
      ]
    },
    {
      "cell_type": "code",
      "execution_count": 3,
      "metadata": {
        "id": "R8qTjdyB8Nnn"
      },
      "outputs": [],
      "source": [
        "#DQN model\n",
        "class DQN(nn.Module):\n",
        "  def __init__(self, state_size, action_size):\n",
        "    super().__init__()\n",
        "    self.fc1 = nn.Linear(state_size, 24)\n",
        "    self.fc2 = nn.Linear(24, 24)\n",
        "    self.fc3 = nn.Linear(24, action_size)\n",
        "\n",
        "  def forward(self, x):\n",
        "    x = F.relu(self.fc1(x))\n",
        "    x = F.relu(self.fc2(x))\n",
        "    return self.fc3(x)"
      ]
    },
    {
      "cell_type": "code",
      "execution_count": 4,
      "metadata": {
        "id": "rMtKJxU8Pbns"
      },
      "outputs": [],
      "source": [
        "class DQNAgent():\n",
        "    def __init__(self, state_size, action_size):\n",
        "        self.state_size = state_size\n",
        "        self.action_size = action_size\n",
        "        self.memory = deque(maxlen=10000)\n",
        "        self.gamma = 0.95  # discount factor\n",
        "        self.epsilon = 1.0  # exploration rate\n",
        "        self.epsilon_min = 0.01\n",
        "        self.epsilon_decay = 0.995\n",
        "        self.model = DQN(state_size, action_size)\n",
        "        self.optimizer = optim.Adam(self.model.parameters(), lr=0.001)\n",
        "\n",
        "    def remember(self, state, action, reward, next_state, terminated):\n",
        "        self.memory.append((state, action, reward, next_state, terminated))\n",
        "\n",
        "    def act(self, state):\n",
        "        if np.random.rand() <= self.epsilon:\n",
        "            return random.randrange(self.action_size)\n",
        "        state = torch.FloatTensor(state)\n",
        "        act_values = self.model(state)\n",
        "        return torch.argmax(act_values).item()\n",
        "\n",
        "    def replay(self, batch_size):\n",
        "        if len(self.memory) < batch_size:\n",
        "            return\n",
        "\n",
        "        minibatch = random.sample(self.memory, batch_size)\n",
        "\n",
        "        # Convert experiences to properly shaped tensors\n",
        "        states = torch.FloatTensor(np.vstack([e[0] for e in minibatch]))\n",
        "        actions = torch.LongTensor(np.vstack([e[1] for e in minibatch]))\n",
        "        rewards = torch.FloatTensor(np.vstack([e[2] for e in minibatch]))\n",
        "        next_states = torch.FloatTensor(np.vstack([e[3] for e in minibatch]))\n",
        "        dones = torch.FloatTensor(np.vstack([e[4] for e in minibatch]))\n",
        "\n",
        "        # Get current Q values for all actions\n",
        "        current_q = self.model(states)\n",
        "\n",
        "        # Select Q values for taken actions\n",
        "        current_q = current_q.gather(1, actions)\n",
        "\n",
        "        # Get max Q values for next states\n",
        "        next_q = self.model(next_states).detach().max(1)[0].unsqueeze(1)\n",
        "\n",
        "        # Compute target Q values\n",
        "        target_q = rewards + (1 - dones) * self.gamma * next_q\n",
        "\n",
        "        # Compute loss\n",
        "        loss = nn.MSELoss()(current_q, target_q)\n",
        "\n",
        "        # Optimize the model\n",
        "        self.optimizer.zero_grad()\n",
        "        loss.backward()\n",
        "        self.optimizer.step()\n",
        "\n",
        "        # Decay exploration rate\n",
        "        if self.epsilon > self.epsilon_min:\n",
        "            self.epsilon *= self.epsilon_decay"
      ]
    },
    {
      "cell_type": "markdown",
      "metadata": {
        "id": "ojd5zTazMggM"
      },
      "source": [
        "## Loading CartPole environment"
      ]
    },
    {
      "cell_type": "code",
      "execution_count": 5,
      "metadata": {
        "colab": {
          "base_uri": "https://localhost:8080/"
        },
        "id": "eQrRbOJOMlXy",
        "outputId": "bc5b0169-9766-4fb3-e530-2df89ef44963"
      },
      "outputs": [
        {
          "output_type": "stream",
          "name": "stderr",
          "text": [
            "/usr/local/lib/python3.11/dist-packages/gym/core.py:329: DeprecationWarning: \u001b[33mWARN: Initializing wrapper in old step API which returns one bool instead of two. It is recommended to set `new_step_api=True` to use new step API. This will be the default behaviour in future.\u001b[0m\n",
            "  deprecation(\n",
            "/usr/local/lib/python3.11/dist-packages/gym/wrappers/step_api_compatibility.py:39: DeprecationWarning: \u001b[33mWARN: Initializing environment in old step API which returns one bool instead of two. It is recommended to set `new_step_api=True` to use new step API. This will be the default behaviour in future.\u001b[0m\n",
            "  deprecation(\n"
          ]
        }
      ],
      "source": [
        "env = gym.make(\"CartPole-v1\")"
      ]
    },
    {
      "cell_type": "markdown",
      "metadata": {
        "id": "xqVgo5jyMsnK"
      },
      "source": [
        "We can check the action and observation space of this environment. Discrete(2) means that there are two valid discrete actions: 0 & 1."
      ]
    },
    {
      "cell_type": "code",
      "execution_count": 6,
      "metadata": {
        "colab": {
          "base_uri": "https://localhost:8080/"
        },
        "id": "saVOESsDMxcd",
        "outputId": "85541315-61d1-439a-ff4e-450f4b0a5f17"
      },
      "outputs": [
        {
          "output_type": "stream",
          "name": "stdout",
          "text": [
            "Discrete(2)\n"
          ]
        }
      ],
      "source": [
        "print(env.action_space)"
      ]
    },
    {
      "cell_type": "markdown",
      "metadata": {
        "id": "IwC0G5U4MxCA"
      },
      "source": [
        "The observation space is given below. The first two arrays define the min and max values of the 4 observed values, corresponding to cart position, velocity and pole angle, angular velocity."
      ]
    },
    {
      "cell_type": "code",
      "execution_count": 7,
      "metadata": {
        "colab": {
          "base_uri": "https://localhost:8080/"
        },
        "id": "i9t8aVafM54w",
        "outputId": "45335b59-bd33-43f8-c793-ff2e182d7c26"
      },
      "outputs": [
        {
          "output_type": "stream",
          "name": "stdout",
          "text": [
            "Box([-4.8000002e+00 -3.4028235e+38 -4.1887903e-01 -3.4028235e+38], [4.8000002e+00 3.4028235e+38 4.1887903e-01 3.4028235e+38], (4,), float32)\n"
          ]
        }
      ],
      "source": [
        "print(env.observation_space)"
      ]
    },
    {
      "cell_type": "markdown",
      "metadata": {
        "id": "tPgZYBzENHl4"
      },
      "source": [
        "\n",
        "We call each round of the pole-balancing game an \"episode\". At the start of each episode, make sure the environment is reset, which chooses a random initial state, e.g., pole slightly tilted to the right. This initialization can be achieved by the code below, which returns the observation of the initial state."
      ]
    },
    {
      "cell_type": "code",
      "execution_count": 8,
      "metadata": {
        "colab": {
          "base_uri": "https://localhost:8080/"
        },
        "id": "Er40pOQvNFJu",
        "outputId": "9baf3992-a8d8-4c3d-9409-e0fdaef10e53"
      },
      "outputs": [
        {
          "output_type": "stream",
          "name": "stdout",
          "text": [
            "Initial observations: [0.02356001 0.02439054 0.02415068 0.03962673]\n",
            "State: [[0.02356001 0.02439054 0.02415068 0.03962673]]\n"
          ]
        }
      ],
      "source": [
        "observation = env.reset()\n",
        "state_size = env.observation_space.shape[0]\n",
        "print(\"Initial observations:\", observation)\n",
        "state = np.reshape(observation, [1, state_size])\n",
        "print(\"State:\", state)"
      ]
    },
    {
      "cell_type": "markdown",
      "metadata": {
        "id": "0E1J8UNsPd1y"
      },
      "source": [
        "For the CartPole environment, there are two possible actions: 0 for pushing to the left and 1 for pushing to the right. For example, we can push the cart to the left using code below, which returns the new observation, the current reward, an indicator of whether the game ends, and some additional information (not used in this project). For CartPole, the game ends when the pole is significantly tilted or you manage to balance the pole for 500 steps. You get exactly 1 reward for each step before the game ends (i.e., max cumulative reward is 500)."
      ]
    },
    {
      "cell_type": "code",
      "execution_count": 9,
      "metadata": {
        "colab": {
          "base_uri": "https://localhost:8080/"
        },
        "id": "SS4Mjh5xPbb_",
        "outputId": "bd4ce013-4c56-4b96-a0aa-96306ef77544"
      },
      "outputs": [
        {
          "output_type": "stream",
          "name": "stdout",
          "text": [
            "Observations [ 0.02404782 -0.17106926  0.02494321  0.33983052]\n",
            "Chosen action: 0\n",
            "Reward for this step: 1.0\n",
            "Is this round done? False\n"
          ]
        },
        {
          "output_type": "stream",
          "name": "stderr",
          "text": [
            "/usr/local/lib/python3.11/dist-packages/gym/utils/passive_env_checker.py:241: DeprecationWarning: `np.bool8` is a deprecated alias for `np.bool_`.  (Deprecated NumPy 1.24)\n",
            "  if not isinstance(terminated, (bool, np.bool8)):\n"
          ]
        }
      ],
      "source": [
        "observation, reward, done, info = env.step(0)\n",
        "print(\"Observations\", observation)\n",
        "print(\"Chosen action: 0\")\n",
        "print(\"Reward for this step:\", reward)\n",
        "print(\"Is this round done?\", done)"
      ]
    },
    {
      "cell_type": "markdown",
      "metadata": {
        "id": "9FLVBFpEcUh4"
      },
      "source": [
        "## Task 2: Train the Agent (100 episodes)"
      ]
    },
    {
      "cell_type": "code",
      "execution_count": 10,
      "metadata": {
        "colab": {
          "base_uri": "https://localhost:8080/"
        },
        "id": "qMgs1kuacYk0",
        "outputId": "c5a5aec6-34d2-43f4-d437-27e0a6217001"
      },
      "outputs": [
        {
          "output_type": "stream",
          "name": "stdout",
          "text": [
            "Episode: 1/100, Score: 15.0, Epsilon: 1.00\n",
            "Episode: 2/100, Score: 21.0, Epsilon: 0.99\n",
            "Episode: 3/100, Score: 14.0, Epsilon: 0.92\n",
            "Episode: 4/100, Score: 14.0, Epsilon: 0.86\n",
            "Episode: 5/100, Score: 12.0, Epsilon: 0.82\n",
            "Episode: 6/100, Score: 19.0, Epsilon: 0.75\n",
            "Episode: 7/100, Score: 22.0, Epsilon: 0.67\n",
            "Episode: 8/100, Score: 16.0, Epsilon: 0.62\n",
            "Episode: 9/100, Score: 11.0, Epsilon: 0.59\n",
            "Episode: 10/100, Score: 13.0, Epsilon: 0.56\n",
            "Episode: 11/100, Score: 23.0, Epsilon: 0.50\n",
            "Episode: 12/100, Score: 10.0, Epsilon: 0.48\n",
            "Episode: 13/100, Score: 12.0, Epsilon: 0.45\n",
            "Episode: 14/100, Score: 11.0, Epsilon: 0.43\n",
            "Episode: 15/100, Score: 9.0, Epsilon: 0.41\n",
            "Episode: 16/100, Score: 14.0, Epsilon: 0.39\n",
            "Episode: 17/100, Score: 12.0, Epsilon: 0.37\n",
            "Episode: 18/100, Score: 10.0, Epsilon: 0.35\n",
            "Episode: 19/100, Score: 11.0, Epsilon: 0.33\n",
            "Episode: 20/100, Score: 17.0, Epsilon: 0.31\n",
            "Episode: 21/100, Score: 10.0, Epsilon: 0.29\n",
            "Episode: 22/100, Score: 11.0, Epsilon: 0.28\n",
            "Episode: 23/100, Score: 9.0, Epsilon: 0.27\n",
            "Episode: 24/100, Score: 16.0, Epsilon: 0.25\n",
            "Episode: 25/100, Score: 10.0, Epsilon: 0.24\n",
            "Episode: 26/100, Score: 11.0, Epsilon: 0.23\n",
            "Episode: 27/100, Score: 8.0, Epsilon: 0.22\n",
            "Episode: 28/100, Score: 13.0, Epsilon: 0.21\n",
            "Episode: 29/100, Score: 9.0, Epsilon: 0.20\n",
            "Episode: 30/100, Score: 8.0, Epsilon: 0.19\n",
            "Episode: 31/100, Score: 9.0, Epsilon: 0.18\n",
            "Episode: 32/100, Score: 10.0, Epsilon: 0.18\n",
            "Episode: 33/100, Score: 13.0, Epsilon: 0.17\n",
            "Episode: 34/100, Score: 9.0, Epsilon: 0.16\n",
            "Episode: 35/100, Score: 13.0, Epsilon: 0.15\n",
            "Episode: 36/100, Score: 24.0, Epsilon: 0.13\n",
            "Episode: 37/100, Score: 14.0, Epsilon: 0.12\n",
            "Episode: 38/100, Score: 11.0, Epsilon: 0.12\n",
            "Episode: 39/100, Score: 14.0, Epsilon: 0.11\n",
            "Episode: 40/100, Score: 13.0, Epsilon: 0.10\n",
            "Episode: 41/100, Score: 10.0, Epsilon: 0.10\n",
            "Episode: 42/100, Score: 16.0, Epsilon: 0.09\n",
            "Episode: 43/100, Score: 13.0, Epsilon: 0.09\n",
            "Episode: 44/100, Score: 12.0, Epsilon: 0.08\n",
            "Episode: 45/100, Score: 18.0, Epsilon: 0.08\n",
            "Episode: 46/100, Score: 15.0, Epsilon: 0.07\n",
            "Episode: 47/100, Score: 16.0, Epsilon: 0.07\n",
            "Episode: 48/100, Score: 14.0, Epsilon: 0.06\n",
            "Episode: 49/100, Score: 18.0, Epsilon: 0.06\n",
            "Episode: 50/100, Score: 19.0, Epsilon: 0.05\n",
            "Episode: 51/100, Score: 16.0, Epsilon: 0.05\n",
            "Episode: 52/100, Score: 15.0, Epsilon: 0.04\n",
            "Episode: 53/100, Score: 17.0, Epsilon: 0.04\n",
            "Episode: 54/100, Score: 62.0, Epsilon: 0.03\n",
            "Episode: 55/100, Score: 20.0, Epsilon: 0.03\n",
            "Episode: 56/100, Score: 23.0, Epsilon: 0.02\n",
            "Episode: 57/100, Score: 25.0, Epsilon: 0.02\n",
            "Episode: 58/100, Score: 21.0, Epsilon: 0.02\n",
            "Episode: 59/100, Score: 32.0, Epsilon: 0.02\n",
            "Episode: 60/100, Score: 20.0, Epsilon: 0.02\n",
            "Episode: 61/100, Score: 22.0, Epsilon: 0.01\n",
            "Episode: 62/100, Score: 22.0, Epsilon: 0.01\n",
            "Episode: 63/100, Score: 83.0, Epsilon: 0.01\n",
            "Episode: 64/100, Score: 52.0, Epsilon: 0.01\n",
            "Episode: 65/100, Score: 37.0, Epsilon: 0.01\n",
            "Episode: 66/100, Score: 64.0, Epsilon: 0.01\n",
            "Episode: 67/100, Score: 76.0, Epsilon: 0.01\n",
            "Episode: 68/100, Score: 54.0, Epsilon: 0.01\n",
            "Episode: 69/100, Score: 79.0, Epsilon: 0.01\n",
            "Episode: 70/100, Score: 29.0, Epsilon: 0.01\n",
            "Episode: 71/100, Score: 36.0, Epsilon: 0.01\n",
            "Episode: 72/100, Score: 78.0, Epsilon: 0.01\n",
            "Episode: 73/100, Score: 46.0, Epsilon: 0.01\n",
            "Episode: 74/100, Score: 42.0, Epsilon: 0.01\n",
            "Episode: 75/100, Score: 46.0, Epsilon: 0.01\n",
            "Episode: 76/100, Score: 96.0, Epsilon: 0.01\n",
            "Episode: 77/100, Score: 72.0, Epsilon: 0.01\n",
            "Episode: 78/100, Score: 74.0, Epsilon: 0.01\n",
            "Episode: 79/100, Score: 101.0, Epsilon: 0.01\n",
            "Episode: 80/100, Score: 90.0, Epsilon: 0.01\n",
            "Episode: 81/100, Score: 102.0, Epsilon: 0.01\n",
            "Episode: 82/100, Score: 43.0, Epsilon: 0.01\n",
            "Episode: 83/100, Score: 98.0, Epsilon: 0.01\n",
            "Episode: 84/100, Score: 69.0, Epsilon: 0.01\n",
            "Episode: 85/100, Score: 90.0, Epsilon: 0.01\n",
            "Episode: 86/100, Score: 86.0, Epsilon: 0.01\n",
            "Episode: 87/100, Score: 113.0, Epsilon: 0.01\n",
            "Episode: 88/100, Score: 79.0, Epsilon: 0.01\n",
            "Episode: 89/100, Score: 132.0, Epsilon: 0.01\n",
            "Episode: 90/100, Score: 121.0, Epsilon: 0.01\n",
            "Episode: 91/100, Score: 67.0, Epsilon: 0.01\n",
            "Episode: 92/100, Score: 116.0, Epsilon: 0.01\n",
            "Episode: 93/100, Score: 117.0, Epsilon: 0.01\n",
            "Episode: 94/100, Score: 82.0, Epsilon: 0.01\n",
            "Episode: 95/100, Score: 153.0, Epsilon: 0.01\n",
            "Episode: 96/100, Score: 157.0, Epsilon: 0.01\n",
            "Episode: 97/100, Score: 383.0, Epsilon: 0.01\n",
            "Episode: 98/100, Score: 187.0, Epsilon: 0.01\n",
            "Episode: 99/100, Score: 189.0, Epsilon: 0.01\n",
            "Episode: 100/100, Score: 187.0, Epsilon: 0.01\n"
          ]
        }
      ],
      "source": [
        "state_size = env.observation_space.shape[0]\n",
        "action_size = env.action_space.n\n",
        "agent = DQNAgent(state_size, action_size)\n",
        "batch_size = 32\n",
        "episodes = 100\n",
        "rewards = []\n",
        "\n",
        "for e in range(episodes):\n",
        "  state = env.reset()\n",
        "  state = np.reshape(state, [1, state_size])\n",
        "  total_reward = 0\n",
        "  terminated = False\n",
        "  truncated = False\n",
        "  step_count = 0\n",
        "\n",
        "  while (not terminated and not truncated):\n",
        "    action = agent.act(state) #agent decides an action\n",
        "    next_state, reward, terminated, _ = env.step(action) #environment responds to action\n",
        "    next_state = np.reshape(next_state, [1, state_size])\n",
        "\n",
        "    # check termination conditions\n",
        "    pole_angle = np.rad2deg(next_state[0][2])\n",
        "    cart_position = next_state[0][0]\n",
        "    if abs(pole_angle) > 12 or abs(cart_position) > 2.4:\n",
        "      terminated = True\n",
        "\n",
        "    agent.remember(state, action, reward, next_state, terminated) #store the experience for later training\n",
        "    state = next_state #update state\n",
        "    total_reward += reward #track total reward\n",
        "\n",
        "    # check if truncated\n",
        "    step_count += 1\n",
        "    truncated = (step_count > 500)\n",
        "\n",
        "    if terminated or truncated:\n",
        "      print(f\"Episode: {e+1}/{episodes}, Score: {total_reward}, Epsilon: {agent.epsilon:.2f}\")\n",
        "      rewards.append(total_reward)\n",
        "      break\n",
        "\n",
        "    if len(agent.memory) > batch_size:\n",
        "      agent.replay(batch_size) #train the agent (if agent has enough experiences in memory)\n"
      ]
    },
    {
      "cell_type": "markdown",
      "metadata": {
        "id": "79jCm6uW-0Bh"
      },
      "source": [
        "## Task 2: Plot the Results"
      ]
    },
    {
      "cell_type": "code",
      "execution_count": 11,
      "metadata": {
        "colab": {
          "base_uri": "https://localhost:8080/",
          "height": 472
        },
        "id": "6ALlfxAO-2lm",
        "outputId": "990ddeda-d6eb-4a26-993f-531692091722"
      },
      "outputs": [
        {
          "output_type": "display_data",
          "data": {
            "text/plain": [
              "<Figure size 640x480 with 1 Axes>"
            ],
            "image/png": "[encoded data removed]"
          },
          "metadata": {}
        }
      ],
      "source": [
        "plt.plot(rewards)\n",
        "plt.xlabel('Episode')\n",
        "plt.ylabel('Cumulative Reward')\n",
        "plt.title('DQN Training Performance')\n",
        "plt.show()"
      ]
    },
    {
      "cell_type": "markdown",
      "metadata": {
        "id": "lS7TWnORUOHs"
      },
      "source": [
        "## Task 3: Test the Agent by rendering 1 episode"
      ]
    },
    {
      "cell_type": "code",
      "execution_count": 12,
      "metadata": {
        "colab": {
          "base_uri": "https://localhost:8080/",
          "height": 828
        },
        "id": "Ln5Jt9ayURmH",
        "outputId": "3a4f3cf6-c739-471d-cb00-99681fe6bf03"
      },
      "outputs": [
        {
          "output_type": "stream",
          "name": "stderr",
          "text": [
            "/usr/local/lib/python3.11/dist-packages/gym/core.py:329: DeprecationWarning: \u001b[33mWARN: Initializing wrapper in old step API which returns one bool instead of two. It is recommended to set `new_step_api=True` to use new step API. This will be the default behaviour in future.\u001b[0m\n",
            "  deprecation(\n",
            "/usr/local/lib/python3.11/dist-packages/gym/wrappers/step_api_compatibility.py:39: DeprecationWarning: \u001b[33mWARN: Initializing environment in old step API which returns one bool instead of two. It is recommended to set `new_step_api=True` to use new step API. This will be the default behaviour in future.\u001b[0m\n",
            "  deprecation(\n",
            "/usr/local/lib/python3.11/dist-packages/gym/wrappers/monitoring/video_recorder.py:78: DeprecationWarning: \u001b[33mWARN: Recording ability for environment CartPole-v1 initialized with `render_mode=None` is marked as deprecated and will be removed in the future.\u001b[0m\n",
            "  logger.deprecation(\n",
            "/usr/local/lib/python3.11/dist-packages/gym/core.py:51: DeprecationWarning: \u001b[33mWARN: The argument mode in render method is deprecated; use render_mode during environment initialization instead.\n",
            "See here for more information: https://www.gymlibrary.ml/content/api/\u001b[0m\n",
            "  deprecation(\n",
            "/usr/local/lib/python3.11/dist-packages/pygame/pkgdata.py:25: DeprecationWarning: pkg_resources is deprecated as an API. See https://setuptools.pypa.io/en/latest/pkg_resources.html\n",
            "  from pkg_resources import resource_stream, resource_exists\n",
            "/usr/local/lib/python3.11/dist-packages/pkg_resources/__init__.py:3154: DeprecationWarning: Deprecated call to `pkg_resources.declare_namespace('google')`.\n",
            "Implementing implicit namespace packages (as specified in PEP 420) is preferred to `pkg_resources.declare_namespace`. See https://setuptools.pypa.io/en/latest/references/keywords.html#keyword-namespace-packages\n",
            "  declare_namespace(pkg)\n",
            "/usr/local/lib/python3.11/dist-packages/pkg_resources/__init__.py:3154: DeprecationWarning: Deprecated call to `pkg_resources.declare_namespace('google.cloud')`.\n",
            "Implementing implicit namespace packages (as specified in PEP 420) is preferred to `pkg_resources.declare_namespace`. See https://setuptools.pypa.io/en/latest/references/keywords.html#keyword-namespace-packages\n",
            "  declare_namespace(pkg)\n",
            "/usr/local/lib/python3.11/dist-packages/pkg_resources/__init__.py:3154: DeprecationWarning: Deprecated call to `pkg_resources.declare_namespace('sphinxcontrib')`.\n",
            "Implementing implicit namespace packages (as specified in PEP 420) is preferred to `pkg_resources.declare_namespace`. See https://setuptools.pypa.io/en/latest/references/keywords.html#keyword-namespace-packages\n",
            "  declare_namespace(pkg)\n",
            "/usr/local/lib/python3.11/dist-packages/gym/core.py:57: DeprecationWarning: \u001b[33mWARN: You are calling render method, but you didn't specified the argument render_mode at environment initialization. To maintain backward compatibility, the environment will render in human mode.\n",
            "If you want to render in human mode, initialize the environment in this way: gym.make('EnvName', render_mode='human') and don't call the render method.\n",
            "See here for more information: https://www.gymlibrary.ml/content/api/\u001b[0m\n",
            "  deprecation(\n",
            "/usr/local/lib/python3.11/dist-packages/gym/utils/passive_env_checker.py:241: DeprecationWarning: `np.bool8` is a deprecated alias for `np.bool_`.  (Deprecated NumPy 1.24)\n",
            "  if not isinstance(terminated, (bool, np.bool8)):\n",
            "/usr/local/lib/python3.11/dist-packages/gym/core.py:51: DeprecationWarning: \u001b[33mWARN: The argument mode in render method is deprecated; use render_mode during environment initialization instead.\n",
            "See here for more information: https://www.gymlibrary.ml/content/api/\u001b[0m\n",
            "  deprecation(\n"
          ]
        },
        {
          "output_type": "stream",
          "name": "stdout",
          "text": [
            "Total Reward: 202.0\n"
          ]
        },
        {
          "output_type": "display_data",
          "data": {
            "text/plain": [
              "<IPython.core.display.HTML object>"
            ],
            "text/html": [
              "<video width=\"400\" controls>\n",
              "                            <source src=\"data:video/mp4;base64,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\" type=\"video/mp4\" />\n",
              "                            </video>"
            ]
          },
          "metadata": {}
        }
      ],
      "source": [
        "env = RecordVideo(gym.make(\"CartPole-v1\"), \"./video\")\n",
        "state = env.reset()\n",
        "state = np.reshape(state, [1, state_size])\n",
        "total_reward = 0\n",
        "done = False\n",
        "\n",
        "while not done:\n",
        "  env.render()\n",
        "  action = agent.act(state)\n",
        "  next_state, reward, done, _ = env.step(action)\n",
        "  next_state = np.reshape(next_state, [1, state_size])\n",
        "  state = next_state\n",
        "  total_reward += reward\n",
        "\n",
        "print(f\"Total Reward: {total_reward}\")\n",
        "env.close()\n",
        "show_video()"
      ]
    }
  ],
  "metadata": {
    "colab": {
      "provenance": [],
      "authorship_tag": "ABX9TyOxnitSuGh0F342D8rHfzc/",
      "include_colab_link": true
    },
    "kernelspec": {
      "display_name": "Python 3",
      "name": "python3"
    },
    "language_info": {
      "name": "python"
    }
  },
  "nbformat": 4,
  "nbformat_minor": 0
}